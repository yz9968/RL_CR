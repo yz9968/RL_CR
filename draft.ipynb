{
 "cells": [
  {
   "cell_type": "code",
   "execution_count": 1,
   "metadata": {},
   "outputs": [
    {
     "name": "stdout",
     "output_type": "stream",
     "text": [
      "[1, 2, 3, 4, 5, 6, 7, 8, 9, 10]\n"
     ]
    }
   ],
   "source": [
    "a=[]\n",
    "for i in range(10):\n",
    "    a.append(i+1)\n",
    "\n",
    "print(a)"
   ]
  },
  {
   "cell_type": "code",
   "execution_count": 1,
   "metadata": {},
   "outputs": [
    {
     "data": {
      "text/plain": [
       "array([[0.000e+00, 0.000e+00, 0.000e+00],\n",
       "       [0.000e+00, 0.000e+00, 0.000e+00],\n",
       "       [0.000e+00, 0.000e+00, 0.000e+00],\n",
       "       [0.000e+00, 2.506e-42, 0.000e+00],\n",
       "       [0.000e+00, 0.000e+00, 0.000e+00]], dtype=float32)"
      ]
     },
     "execution_count": 1,
     "metadata": {},
     "output_type": "execute_result"
    }
   ],
   "source": [
    "import numpy as np\n",
    "np.empty([5, 3], dtype='float32')"
   ]
  },
  {
   "cell_type": "code",
   "execution_count": 5,
   "metadata": {},
   "outputs": [
    {
     "name": "stdout",
     "output_type": "stream",
     "text": [
      "C:/outputs/results/\n"
     ]
    }
   ],
   "source": [
    "import os\n",
    "curr_path = os.path.dirname(os.path.realpath('__file__'))\n",
    "res_path=os.path.join(curr_path,'/outputs/results/')\n",
    "print(res_path)"
   ]
  },
  {
   "cell_type": "code",
   "execution_count": 20,
   "metadata": {},
   "outputs": [
    {
     "data": {
      "image/png": "[encoded data removed]",
      "text/plain": [
       "<Figure size 432x288 with 1 Axes>"
      ]
     },
     "metadata": {},
     "output_type": "display_data"
    }
   ],
   "source": [
    "from common.plot import plot_cn\n",
    "x=list(range(10))\n",
    "plot_cn(x)"
   ]
  },
  {
   "cell_type": "code",
   "execution_count": 21,
   "metadata": {},
   "outputs": [
    {
     "ename": "ImportError",
     "evalue": "cannot import name 'plot_ioncn' from 'common.plot' (c:\\File\\Traffic\\Reinforcement-Learning\\Graph_RL\\practice\\common\\plot.py)",
     "output_type": "error",
     "traceback": [
      "\u001b[1;31m---------------------------------------------------------------------------\u001b[0m",
      "\u001b[1;31mImportError\u001b[0m                               Traceback (most recent call last)",
      "\u001b[1;32m~\\AppData\\Local\\Temp/ipykernel_22836/3691923221.py\u001b[0m in \u001b[0;36m<module>\u001b[1;34m\u001b[0m\n\u001b[1;32m----> 1\u001b[1;33m \u001b[1;32mfrom\u001b[0m \u001b[0mcommon\u001b[0m\u001b[1;33m.\u001b[0m\u001b[0mplot\u001b[0m \u001b[1;32mimport\u001b[0m \u001b[0mplot_ioncn\u001b[0m\u001b[1;33m\u001b[0m\u001b[1;33m\u001b[0m\u001b[0m\n\u001b[0m\u001b[0;32m      2\u001b[0m \u001b[0mx\u001b[0m\u001b[1;33m=\u001b[0m\u001b[0mlist\u001b[0m\u001b[1;33m(\u001b[0m\u001b[0mrange\u001b[0m\u001b[1;33m(\u001b[0m\u001b[1;36m10\u001b[0m\u001b[1;33m)\u001b[0m\u001b[1;33m)\u001b[0m\u001b[1;33m\u001b[0m\u001b[1;33m\u001b[0m\u001b[0m\n\u001b[0;32m      3\u001b[0m \u001b[0my\u001b[0m\u001b[1;33m=\u001b[0m\u001b[0mlist\u001b[0m\u001b[1;33m(\u001b[0m\u001b[0mrange\u001b[0m\u001b[1;33m(\u001b[0m\u001b[1;36m20\u001b[0m\u001b[1;33m,\u001b[0m\u001b[1;36m2\u001b[0m\u001b[1;33m)\u001b[0m\u001b[1;33m)\u001b[0m\u001b[1;33m\u001b[0m\u001b[1;33m\u001b[0m\u001b[0m\n\u001b[0;32m      4\u001b[0m \u001b[0mplot_ioncn\u001b[0m\u001b[1;33m(\u001b[0m\u001b[0mx\u001b[0m\u001b[1;33m)\u001b[0m\u001b[1;33m\u001b[0m\u001b[1;33m\u001b[0m\u001b[0m\n\u001b[0;32m      5\u001b[0m \u001b[0mplot_ioncn\u001b[0m\u001b[1;33m(\u001b[0m\u001b[0my\u001b[0m\u001b[1;33m)\u001b[0m\u001b[1;33m\u001b[0m\u001b[1;33m\u001b[0m\u001b[0m\n",
      "\u001b[1;31mImportError\u001b[0m: cannot import name 'plot_ioncn' from 'common.plot' (c:\\File\\Traffic\\Reinforcement-Learning\\Graph_RL\\practice\\common\\plot.py)"
     ]
    }
   ],
   "source": [
    "from common.plot import plot_ioncn\n",
    "x=list(range(10))\n",
    "y=list(range(20,2))\n",
    "plot_ioncn(x)\n",
    "plot_ioncn(y)"
   ]
  },
  {
   "cell_type": "code",
   "execution_count": 12,
   "metadata": {},
   "outputs": [
    {
     "name": "stdout",
     "output_type": "stream",
     "text": [
      "1645095916.925715\n",
      "1645095916\n"
     ]
    }
   ],
   "source": [
    "import time\n",
    "time_now=time.time()\n",
    "print(time_now)\n",
    "print(int(time_now))"
   ]
  },
  {
   "cell_type": "code",
   "execution_count": 15,
   "metadata": {},
   "outputs": [
    {
     "data": {
      "text/plain": [
       "'20220217'"
      ]
     },
     "execution_count": 15,
     "metadata": {},
     "output_type": "execute_result"
    }
   ],
   "source": [
    "time.strftime(\"%Y%m%d\",time.localtime(time.time()))"
   ]
  },
  {
   "cell_type": "code",
   "execution_count": 27,
   "metadata": {},
   "outputs": [
    {
     "name": "stdout",
     "output_type": "stream",
     "text": [
      "tensor([[ 1,  2,  3,  4,  5,  6,  7,  8],\n",
      "        [ 9, 10, 11, 12, 13, 14, 15, 16],\n",
      "        [17, 18, 19, 20, 21, 22, 23, 24],\n",
      "        [25, 26, 27, 28, 29, 30, 31, 32],\n",
      "        [33, 34, 35, 36, 37, 38, 39, 40],\n",
      "        [41, 42, 43, 44, 45, 46, 47, 48],\n",
      "        [49, 50, 51, 52, 53, 54, 55, 56],\n",
      "        [57, 58, 59, 60, 61, 62, 63, 64]])\n",
      "[4, 0, 3]\n",
      "tensor([[33, 34, 35, 36, 37, 38, 39, 40],\n",
      "        [ 1,  2,  3,  4,  5,  6,  7,  8],\n",
      "        [25, 26, 27, 28, 29, 30, 31, 32]])\n",
      "[2, 7, 6]\n",
      "tensor([[17, 18, 19, 20, 21, 22, 23, 24],\n",
      "        [57, 58, 59, 60, 61, 62, 63, 64],\n",
      "        [49, 50, 51, 52, 53, 54, 55, 56]])\n",
      "[1, 5]\n",
      "tensor([[ 9, 10, 11, 12, 13, 14, 15, 16],\n",
      "        [41, 42, 43, 44, 45, 46, 47, 48]])\n"
     ]
    }
   ],
   "source": [
    "import torch\n",
    "from torch.utils.data.sampler import BatchSampler, SubsetRandomSampler\n",
    "a=torch.arange(1,65).view(8,8)\n",
    "print(a)\n",
    "for index in BatchSampler(SubsetRandomSampler(range(8)), 3, False):\n",
    "    print(index)\n",
    "    print(a[index])"
   ]
  },
  {
   "cell_type": "code",
   "execution_count": 26,
   "metadata": {},
   "outputs": [
    {
     "name": "stdout",
     "output_type": "stream",
     "text": [
      "tensor([[1, 2, 3, 4],\n",
      "        [5, 6, 7, 8]])\n",
      "tensor([[1, 2, 3, 4],\n",
      "        [5, 6, 7, 8]])\n"
     ]
    }
   ],
   "source": [
    "a=torch.arange(1,9).view(2,4)\n",
    "print(a)\n",
    "b=torch.squeeze(a)\n",
    "print(b)"
   ]
  },
  {
   "cell_type": "code",
   "execution_count": 28,
   "metadata": {},
   "outputs": [
    {
     "data": {
      "text/plain": [
       "1.25"
      ]
     },
     "execution_count": 28,
     "metadata": {},
     "output_type": "execute_result"
    }
   ],
   "source": [
    "a=int(5)\n",
    "b=int(4)\n",
    "a/b"
   ]
  },
  {
   "cell_type": "code",
   "execution_count": 30,
   "metadata": {},
   "outputs": [
    {
     "data": {
      "text/plain": [
       "['episodes', 'episodes', 'episodes', 'episodes']"
      ]
     },
     "execution_count": 30,
     "metadata": {},
     "output_type": "execute_result"
    }
   ],
   "source": [
    "['episodes']*4"
   ]
  },
  {
   "cell_type": "code",
   "execution_count": 7,
   "metadata": {},
   "outputs": [
    {
     "name": "stdout",
     "output_type": "stream",
     "text": [
      "[76.21        0.          0.9678      0.002       0.          0.08444814]\n"
     ]
    }
   ],
   "source": [
    "import numpy as np\n",
    "np.set_printoptions(suppress=True)\n",
    "res=np.load(r'C:\\File\\Traffic\\Reinforcement-Learning\\Graph_RL\\model\\cr_maddpg\\50_agent_evaluate_metrics_20220221144433.npy')\n",
    "print(res)"
   ]
  },
  {
   "cell_type": "code",
   "execution_count": 10,
   "metadata": {},
   "outputs": [
    {
     "name": "stdout",
     "output_type": "stream",
     "text": [
      "tensor([[[ 1.4800,  0.2030, -0.4110, -0.9274],\n",
      "         [ 0.1404,  2.2359,  0.9461, -0.0503],\n",
      "         [-0.8761,  0.2004,  0.3518,  1.3700]],\n",
      "\n",
      "        [[-1.1586,  0.1421, -0.9766, -0.7847],\n",
      "         [-1.3653, -0.2588,  0.6747,  1.9177],\n",
      "         [ 1.8516, -0.2598,  0.9593, -0.5176]]])\n",
      "tensor([[[-0.5844,  0.8710,  0.6414,  1.7815, -0.2111],\n",
      "         [ 1.0954, -1.6325, -0.3371, -0.0706, -0.2419],\n",
      "         [-1.1669,  0.7656, -0.8522,  0.5408,  0.7086],\n",
      "         [ 0.7541, -0.2965,  0.9175, -1.2809,  0.1072]],\n",
      "\n",
      "        [[ 0.5343,  1.4159, -1.0592, -1.0883,  0.0282],\n",
      "         [-0.5020, -0.0469,  0.6884,  1.0396, -1.0426],\n",
      "         [ 0.8705,  0.1319,  1.8608,  0.4854,  1.4601],\n",
      "         [ 1.0680, -0.4143,  0.8110, -0.1425, -1.7952]]])\n",
      "tensor([[[-0.8623,  0.9180,  0.3800,  3.5879, -0.7522],\n",
      "         [ 1.2251, -2.7885, -1.5161,  0.6685,  0.0945],\n",
      "         [ 1.3540, -1.2271,  0.3277, -3.1394,  0.5327]],\n",
      "\n",
      "        [[-2.3786, -1.4508, -1.1287,  1.0463, -0.1982],\n",
      "         [ 2.0358, -2.6265,  4.0787,  1.2710, -2.2262],\n",
      "         [ 1.4020,  2.9747, -0.7748, -1.7457,  2.6529]]])\n",
      "torch.Size([2, 3, 5])\n"
     ]
    }
   ],
   "source": [
    "import torch\n",
    "input = torch.randn(2, 3, 4)\n",
    "print(input)\n",
    "mat2 = torch.randn(2, 4, 5)\n",
    "print(mat2)\n",
    "res = torch.bmm(input, mat2)\n",
    "print(res)\n",
    "print(res.size())"
   ]
  },
  {
   "cell_type": "code",
   "execution_count": 12,
   "metadata": {},
   "outputs": [
    {
     "data": {
      "text/plain": [
       "matrix([[-0.86230224,  0.917995  ,  0.3802054 ,  3.58792606, -0.75218558],\n",
       "        [ 1.22521978, -2.78857024, -1.516086  ,  0.66834821,  0.09451165],\n",
       "        [ 1.35411258, -1.22710302,  0.32768566, -3.13949995,  0.53261743]])"
      ]
     },
     "execution_count": 12,
     "metadata": {},
     "output_type": "execute_result"
    }
   ],
   "source": [
    "import numpy as np\n",
    "a=np.mat([[ 1.4800,  0.2030, -0.4110, -0.9274],\n",
    "         [ 0.1404,  2.2359,  0.9461, -0.0503],\n",
    "         [-0.8761,  0.2004,  0.3518,  1.3700]])\n",
    "b=np.mat([[-0.5844,  0.8710,  0.6414,  1.7815, -0.2111],\n",
    "         [ 1.0954, -1.6325, -0.3371, -0.0706, -0.2419],\n",
    "         [-1.1669,  0.7656, -0.8522,  0.5408,  0.7086],\n",
    "         [ 0.7541, -0.2965,  0.9175, -1.2809,  0.1072]])\n",
    "\n",
    "a*b"
   ]
  },
  {
   "cell_type": "code",
   "execution_count": null,
   "metadata": {},
   "outputs": [],
   "source": []
  }
 ],
 "metadata": {
  "interpreter": {
   "hash": "688025fed82bfe4afa03a24bb1ebf4f5afad42a4f889d8396665be66ab929926"
  },
  "kernelspec": {
   "display_name": "Python 3.8.3 ('base')",
   "language": "python",
   "name": "python3"
  },
  "language_info": {
   "codemirror_mode": {
    "name": "ipython",
    "version": 3
   },
   "file_extension": ".py",
   "mimetype": "text/x-python",
   "name": "python",
   "nbconvert_exporter": "python",
   "pygments_lexer": "ipython3",
   "version": "3.8.3"
  },
  "orig_nbformat": 4
 },
 "nbformat": 4,
 "nbformat_minor": 2
}
